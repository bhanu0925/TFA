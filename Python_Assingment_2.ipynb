{
 "cells": [
  {
   "cell_type": "markdown",
   "metadata": {
    "id": "VXJDMkAbfQQ7"
   },
   "source": [
    "1. Write a python program to interchange first and last elements in a list<br>\n",
    "Input : [12, 35, 9, 56, 24]<br>\n",
    "Output : [24, 35, 9, 56, 12]"
   ]
  },
  {
   "cell_type": "code",
   "execution_count": 1,
   "metadata": {
    "id": "nkLzGNGUpk7B"
   },
   "outputs": [
    {
     "data": {
      "text/plain": [
       "[24, 35, 9, 56, 12]"
      ]
     },
     "execution_count": 1,
     "metadata": {},
     "output_type": "execute_result"
    }
   ],
   "source": [
    "lstOriginal = [12, 35, 9, 56, 24]\n",
    "\n",
    "lstOriginal[0],lstOriginal[-1] = lstOriginal[-1],lstOriginal[0]\n",
    "lstOriginal\n"
   ]
  },
  {
   "cell_type": "markdown",
   "metadata": {
    "id": "mJrR38UrfTsr"
   },
   "source": [
    "2. Write a python program to print the first two maximum numbers in the list and also print the sum of those two maximum numbers<br>\n",
    "Input : [12, 35, 9, 56, 24]<br>\n",
    "Output : [24, 35, 9, 56, 12]<br>\n",
    "output = Maximum numbers in the list are 56,35<br>\n",
    "and the sum of the above maximum numbers is 91"
   ]
  },
  {
   "cell_type": "code",
   "execution_count": 6,
   "metadata": {
    "id": "9O3EUaT8plpW"
   },
   "outputs": [
    {
     "name": "stdout",
     "output_type": "stream",
     "text": [
      "First 2 Maximium numbers in the list are :  [56, 35]\n",
      "sum of first two maximum number :  91\n"
     ]
    }
   ],
   "source": [
    "lstOrg = [12, 35, 9, 56, 24]\n",
    "lstOrg = sorted(lstOrg,reverse = True)\n",
    "print(\"First 2 Maximium numbers in the list are : \", lstOrg[:2])\n",
    "print(\"sum of first two maximum number : \", lstOrg[0] + lstOrg[1])"
   ]
  },
  {
   "cell_type": "markdown",
   "metadata": {
    "id": "gN-py34Qf6dF"
   },
   "source": [
    "3. Write a program to reverse a list using for loop without using slicing operation<br>\n",
    "Input=[1,2,3,4,5,6]<br>\n",
    "output=[6,5,4,3,2,1]"
   ]
  },
  {
   "cell_type": "code",
   "execution_count": 14,
   "metadata": {
    "id": "ZUrBTXnPpmgE"
   },
   "outputs": [
    {
     "name": "stdout",
     "output_type": "stream",
     "text": [
      "Original List :  [1, 2, 3, 4, 5, 6]\n",
      "Revesed list :  [6, 5, 4, 3, 2, 1]\n"
     ]
    }
   ],
   "source": [
    "revLst = []\n",
    "orgLst = [1,2,3,4,5,6]\n",
    "print(\"Original List : \", orgLst)\n",
    "for i in range(len(orgLst)-1,-1,-1):\n",
    "    revLst.append(orgLst[i])\n",
    "print(\"Reversed list : \", revLst)"
   ]
  },
  {
   "cell_type": "markdown",
   "metadata": {
    "id": "5DMwujcNgQn2"
   },
   "source": [
    "4. Write a python program to print the first two minimum numbers in the list and also print the sum of those two minimum numbers<br>\n",
    "Input : [12, 35, 9, 56, 24]<br>\n",
    "Output : [24, 35, 9, 56, 12]<br>\n",
    "output=Minimum numbers in the list are 9,12<br>\n",
    "and the sum of the above minimum numbers is 21"
   ]
  },
  {
   "cell_type": "code",
   "execution_count": 9,
   "metadata": {
    "id": "OM-nbi_0pnGk"
   },
   "outputs": [
    {
     "name": "stdout",
     "output_type": "stream",
     "text": [
      "First 2 Maximium numbers in the list are :  [9, 12]\n",
      "sum of first two maximum number :  21\n"
     ]
    }
   ],
   "source": [
    "lstOrg = [12, 35, 9, 56, 24]\n",
    "lstOrg = sorted(lstOrg,reverse = False)\n",
    "print(\"First 2 Maximium numbers in the list are : \", lstOrg[:2])\n",
    "print(\"sum of first two maximum number : \", lstOrg[0] + lstOrg[1])"
   ]
  },
  {
   "cell_type": "markdown",
   "metadata": {
    "id": "dmHJ6S4pgpbx"
   },
   "source": [
    "5. Take string as an input from the user and print reverse of the string,using for loop <br>\n",
    "Input='hi i like python'<br>\n",
    "output='nohtyp ekil i ih'"
   ]
  },
  {
   "cell_type": "code",
   "execution_count": 19,
   "metadata": {
    "id": "MWPvs-Vcf5Aw"
   },
   "outputs": [
    {
     "name": "stdout",
     "output_type": "stream",
     "text": [
      "enter a string : Technology for all\n",
      "Original List :  Technology for all\n",
      "Reversed string :  lla rof ygolonhceT\n"
     ]
    }
   ],
   "source": [
    "revStr = ''\n",
    "orgstr = input(\"enter a string : \")\n",
    "print(\"Original List : \", orgstr)\n",
    "for i in range(len(orgstr)-1,-1,-1):\n",
    "    revStr += orgstr[i]\n",
    "print(\"Reversed string : \", revStr)"
   ]
  },
  {
   "cell_type": "code",
   "execution_count": null,
   "metadata": {},
   "outputs": [],
   "source": []
  }
 ],
 "metadata": {
  "colab": {
   "collapsed_sections": [],
   "name": "Python_Assingment_2.ipynb",
   "provenance": []
  },
  "kernelspec": {
   "display_name": "Python 3",
   "language": "python",
   "name": "python3"
  },
  "language_info": {
   "codemirror_mode": {
    "name": "ipython",
    "version": 3
   },
   "file_extension": ".py",
   "mimetype": "text/x-python",
   "name": "python",
   "nbconvert_exporter": "python",
   "pygments_lexer": "ipython3",
   "version": "3.8.8"
  }
 },
 "nbformat": 4,
 "nbformat_minor": 1
}
