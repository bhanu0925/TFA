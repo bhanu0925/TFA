{
 "cells": [
  {
   "cell_type": "markdown",
   "metadata": {},
   "source": [
    "## Python Assignment - 1"
   ]
  },
  {
   "cell_type": "markdown",
   "metadata": {},
   "source": [
    "### 1.1 Take a string as an input from the user, and print all the vowels present in the string."
   ]
  },
  {
   "cell_type": "code",
   "execution_count": 5,
   "metadata": {},
   "outputs": [
    {
     "name": "stdout",
     "output_type": "stream",
     "text": [
      "Enter a string :Technology for all\n",
      "e o o o a "
     ]
    }
   ],
   "source": [
    "vowel = \"AaEeIiOoUu\"\n",
    "sUserString = input(\"Enter a string :\")\n",
    "for ch in sUserString:\n",
    "    if ch in vowel:\n",
    "        print(ch,end = \" \")"
   ]
  },
  {
   "cell_type": "markdown",
   "metadata": {},
   "source": [
    "### 1.2 Take a string as an input from the user, and print all the consonants present in the string."
   ]
  },
  {
   "cell_type": "code",
   "execution_count": 6,
   "metadata": {},
   "outputs": [
    {
     "name": "stdout",
     "output_type": "stream",
     "text": [
      "Enter a string :Technology for all\n",
      "T c h n l g y   f r   l l "
     ]
    }
   ],
   "source": [
    "vowel = \"AaEeIiOoUu\"\n",
    "sUserString = input(\"Enter a string :\")\n",
    "for ch in sUserString:\n",
    "    if ch not in vowel:\n",
    "        print(ch,end = \" \")"
   ]
  },
  {
   "cell_type": "markdown",
   "metadata": {},
   "source": [
    "### 1.3 Take a string as an input from the user, store all the vowels and consonants in two different lists and print them."
   ]
  },
  {
   "cell_type": "code",
   "execution_count": 10,
   "metadata": {},
   "outputs": [
    {
     "name": "stdout",
     "output_type": "stream",
     "text": [
      "Enter a string :Technology for all\n",
      "Vowel list :  ['e', 'o', 'o', 'o', 'a']\n",
      "Consonants list :  ['T', 'c', 'h', 'n', 'l', 'g', 'y', 'f', 'r', 'l', 'l']\n"
     ]
    }
   ],
   "source": [
    "listVowel = []\n",
    "listCon = []\n",
    "vowel = \"AaEeIiOoUu\"\n",
    "sUserString = input(\"Enter a string :\")\n",
    "sUserString = sUserString.replace(\" \", \"\")\n",
    "\n",
    "for ch in sUserString:\n",
    "    if ch in vowel:\n",
    "        listVowel.append(ch)\n",
    "    else:\n",
    "        listCon.append(ch)\n",
    "print(\"Vowel list : \",listVowel)\n",
    "print(\"Consonants list : \",listCon)"
   ]
  },
  {
   "cell_type": "markdown",
   "metadata": {},
   "source": [
    "### 2. There are 12 months in a year - January, February,March etc. We also have seasons like summer,autumn,winter,spring.These seasons depend on both Date and Month. Based on below given information, answers the following questions.\n",
    "\n",
    ". For month = Jan,Feb,and March, print winter\n",
    "\n",
    ". If (month = March and date > 19), print summer\n",
    "\n",
    ". For month = Apr,May,June , print summer\n",
    "\n",
    ". If (month = June and date > 20), print spring\n",
    "\n",
    ". For month = July,Aug,Sep ,  print spring\n",
    "\n",
    ". If (month = september and date > 21), print autumn\n",
    "\n",
    ". For month = Oct,Nov,Dec , print autumn\n",
    "\n",
    ". If (month = December and date > 15), print winter"
   ]
  },
  {
   "cell_type": "markdown",
   "metadata": {},
   "source": [
    "For example:\n",
    "\n",
    "Input: Month = December\n",
    "       Day = 20\n",
    "       \n",
    "Output: Winter"
   ]
  },
  {
   "cell_type": "code",
   "execution_count": 43,
   "metadata": {},
   "outputs": [
    {
     "name": "stdout",
     "output_type": "stream",
     "text": [
      "Enter a month in the shown format ['Jan', 'Feb', 'March', 'April', 'May', 'June', 'July', 'Aug', 'Sep', 'Oct', 'Nov', 'Dec']Dec\n",
      "Enter day of the month in number : 15\n",
      "autum\n"
     ]
    }
   ],
   "source": [
    "winter = ['Jan','Feb','March']\n",
    "summer = ['April','May','June']\n",
    "spring = ['July','Aug','Sep']\n",
    "autum = ['Oct','Nov','Dec']\n",
    "allMonths = ['Jan','Feb','March','April','May','June','July','Aug','Sep','Oct','Nov','Dec']\n",
    "month = input(\"Enter a month in the shown format {}\".format(allMonths))\n",
    "day = int(input(\"Enter day of the month in number : \"))\n",
    "\n",
    "# winter\n",
    "\n",
    "if month in winter:\n",
    "    if month.upper() == 'MARCH':\n",
    "        if day > 19 :\n",
    "            print(\"Summer\")\n",
    "        else:\n",
    "            print('winter')\n",
    "    else:\n",
    "        print('Winter')\n",
    "elif month in summer:\n",
    "    if month.upper() == 'JUNE':\n",
    "        if day > 20:\n",
    "            print('spring')\n",
    "        else:\n",
    "            print('summer')\n",
    "    else:\n",
    "        print('summer')\n",
    "elif month in spring:\n",
    "    if month.upper() == 'SEP':\n",
    "        if day > 21:\n",
    "            print('autumn')\n",
    "        else:\n",
    "            print('spring')\n",
    "    else:\n",
    "        print('spring')\n",
    "elif month in autum:\n",
    "    if month.upper() == 'DEC':\n",
    "        if day > 15:\n",
    "            print('Winter')\n",
    "        else:\n",
    "            print('autum')\n",
    "    else:\n",
    "        print('autum')   \n"
   ]
  },
  {
   "cell_type": "markdown",
   "metadata": {},
   "source": [
    "### 3.Take an input from the user and print the Ticket fair.\n",
    "\n",
    "Age: (1 to 3) :Ticket fair - free\n",
    "\n",
    "Age: (4 to 10) : Ticket fair  - 150\n",
    "    \n",
    "Age: (11 to 60) : Ticket fair - 300\n",
    "    \n",
    "Age: Above 60 : Ticket fair - 3000\n"
   ]
  },
  {
   "cell_type": "code",
   "execution_count": 34,
   "metadata": {},
   "outputs": [
    {
     "name": "stdout",
     "output_type": "stream",
     "text": [
      "Enter the age : 6\n",
      "Ticket fair : 150\n"
     ]
    }
   ],
   "source": [
    "age = int(input(\"Enter the age : \"))\n",
    "if age > 60 :\n",
    "    print(\"Ticket fair : 3000\")\n",
    "elif age >= 11 :\n",
    "    print(\"Ticket fair : 300\")\n",
    "elif age >= 4 :\n",
    "    print(\"Ticket fair : 150\")\n",
    "elif age >= 1 :\n",
    "    print(\"Ticket fair : Free\")\n",
    "else :\n",
    "    print(\"You are yet to be born!!\")    "
   ]
  },
  {
   "cell_type": "markdown",
   "metadata": {},
   "source": [
    "### 4. Take a string as an input and replace \"Anonyms\" and \"Love\" words with \"Your name\" and \"Like\"."
   ]
  },
  {
   "cell_type": "markdown",
   "metadata": {},
   "source": [
    "**For example:** a='My name is Anonyms and I Love python'\n",
    "\n",
    "**output:** My name is Ashish and I like python   "
   ]
  },
  {
   "cell_type": "code",
   "execution_count": 22,
   "metadata": {},
   "outputs": [
    {
     "name": "stdout",
     "output_type": "stream",
     "text": [
      "My name is Bhanu and I Like python\n"
     ]
    }
   ],
   "source": [
    "myStr = \"My name is Anonyms and I Love python\"\n",
    "myStr = myStr.replace(\"Anonyms\" , \"Bhanu\").replace(\"Love\", \"Like\")\n",
    "print(myStr)"
   ]
  },
  {
   "cell_type": "markdown",
   "metadata": {},
   "source": [
    "### 5. Take two input values 'x' and 'y', and print which quadrants they belong to based on the below conditions.\n",
    "\n",
    "1. x>0 and y>0 - 1st Quadrant\n",
    "2. x<0 and y>0 - 2nd Quadrant\n",
    "3. x<0 and y<0 - 3rd Quadrant\n",
    "4. x>0 and y<0 - 4th Quadrant"
   ]
  },
  {
   "cell_type": "code",
   "execution_count": 21,
   "metadata": {},
   "outputs": [
    {
     "name": "stdout",
     "output_type": "stream",
     "text": [
      "Enter x : 7\n",
      "Enter Y : -9\n",
      "4Th Quadrant\n"
     ]
    }
   ],
   "source": [
    "x = int(input(\"Enter x : \"))\n",
    "y = int(input(\"Enter Y : \"))\n",
    "\n",
    "if x > 0 and y > 0 :\n",
    "    print(\"1st Quadrant\")\n",
    "elif x < 0 and y > 0:\n",
    "    print(\"2nd Quadrant\")\n",
    "elif x < 0 and y < 0 :\n",
    "    print(\"3rd Quadrant\")\n",
    "elif x > 0 and y < 0 :\n",
    "    print(\"4Th Quadrant\")\n",
    "else:\n",
    "    print(\"Invalid Data\")"
   ]
  },
  {
   "cell_type": "code",
   "execution_count": null,
   "metadata": {},
   "outputs": [],
   "source": []
  }
 ],
 "metadata": {
  "kernelspec": {
   "display_name": "Python 3",
   "language": "python",
   "name": "python3"
  },
  "language_info": {
   "codemirror_mode": {
    "name": "ipython",
    "version": 3
   },
   "file_extension": ".py",
   "mimetype": "text/x-python",
   "name": "python",
   "nbconvert_exporter": "python",
   "pygments_lexer": "ipython3",
   "version": "3.8.8"
  }
 },
 "nbformat": 4,
 "nbformat_minor": 4
}
