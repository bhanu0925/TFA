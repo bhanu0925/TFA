{
 "cells": [
  {
   "cell_type": "markdown",
   "metadata": {
    "id": "0Js4T3QBXZyt"
   },
   "source": [
    "### Python Assignment - 3"
   ]
  },
  {
   "cell_type": "markdown",
   "metadata": {
    "id": "u8XyD_P4XhJz"
   },
   "source": [
    "### 1. Take a string as an input and check whether the input is present in the list and also print it's no.of occurances.\n",
    "\n",
    "**Example:** a = ['1,2,3,4,5,6,'q',1,'e',2,2,3,'a',2,2]<br>\n",
    "         Input = 2 <br>\n",
    "         output : 2 is present in the list and no.of occurances is 5"
   ]
  },
  {
   "cell_type": "code",
   "execution_count": 3,
   "metadata": {
    "id": "rkx2tIS1poja"
   },
   "outputs": [
    {
     "name": "stdout",
     "output_type": "stream",
     "text": [
      "enter a ch : 2\n",
      "2  is present in the list and no of occurances is  5\n"
     ]
    }
   ],
   "source": [
    "lstIn =  ['1','2','3','4','5','6','q','1','e','2','2','3','a','2','2']\n",
    "inputStr = input(\"enter a ch : \")\n",
    "if inputStr in lstIn:\n",
    "    print(inputStr , \" is present in the list and no of occurances is \",lstIn.count(inputStr))"
   ]
  },
  {
   "cell_type": "markdown",
   "metadata": {
    "id": "Y8bYuCYWZuAD"
   },
   "source": [
    "### 2. Print the list in reverse. Take the input from the user as <br> i. No.of elements to be given in the list.<br> ii. Enter the elements.<br> output: original list: [' ', ' ', ' ']<br> Reversed list: [' ', ' ', ' ']<br>\n",
    "**Example:** No.of elements : 3<br> Enter the elements: 'a','b','c'<br> output: original list: ['a','b','c']<br> Reversed list: ['c','b','a']"
   ]
  },
  {
   "cell_type": "code",
   "execution_count": 5,
   "metadata": {
    "id": "XWDwHwLFppS_"
   },
   "outputs": [
    {
     "name": "stdout",
     "output_type": "stream",
     "text": [
      "No of elements : 4\n",
      "Enter elements d g h s\n",
      "Original List :  ['d', 'g', 'h', 's']\n",
      "Reversed list :  ['s', 'h', 'g', 'd']\n"
     ]
    }
   ],
   "source": [
    "numEle = int(input(\"No of elements : \"))\n",
    "orgLst = list(input(\"Enter elements \" ).split(\" \"))\n",
    "\n",
    "revLst = []\n",
    "print(\"Original List : \", orgLst)\n",
    "for i in range(numEle-1,-1,-1):\n",
    "    revLst.append(orgLst[i])\n",
    "print(\"Reversed list : \", revLst)"
   ]
  },
  {
   "cell_type": "markdown",
   "metadata": {
    "id": "xfn94Khhb8jN"
   },
   "source": [
    "### 3. Write a Python program to find the second largest number in given list.<br>\n",
    "Examples: <br>\n",
    "\n",
    "Input: list1 = [10, 20, 4]<br>\n",
    "Output: 10<br>\n",
    "\n",
    "Input: list2 = [70, 11, 20, 4, 100]<br>\n",
    "Output: 70<br>"
   ]
  },
  {
   "cell_type": "code",
   "execution_count": 12,
   "metadata": {
    "id": "wZyVkrjSpp9d"
   },
   "outputs": [
    {
     "name": "stdout",
     "output_type": "stream",
     "text": [
      "Enter numbers 3 5 6 7 2\n",
      "The sorted list :  ['7', '6', '5', '3', '2']\n",
      "2nd largest number in the list is  :  6\n"
     ]
    }
   ],
   "source": [
    "lstOrg = list(input(\"Enter numbers \" ).split(\" \"))\n",
    "lstOrg = sorted(lstOrg,reverse = True)\n",
    "print(\"The sorted list : \", lstOrg)\n",
    "print(\"2nd largest number in the list is  : \", lstOrg[1])\n"
   ]
  },
  {
   "cell_type": "markdown",
   "metadata": {
    "id": "nIy5WklycyZN"
   },
   "source": [
    "### 4. Write a Python program to print all even numbers in given list.<br>\n",
    "Example:\n",
    "\n",
    "Input: list1 = [2, 7, 5, 64, 14]<br>\n",
    "Output: [2, 64, 14]\n",
    "\n",
    "Input: list2 = [12, 14, 95, 3]<br>\n",
    "Output: [12, 14]"
   ]
  },
  {
   "cell_type": "code",
   "execution_count": 15,
   "metadata": {
    "id": "pCH1HVvjpqha"
   },
   "outputs": [],
   "source": [
    "def findEven(lst):\n",
    "    evenLst = []\n",
    "    for i in lst:\n",
    "        if i%2 == 0:\n",
    "            evenLst.append(i)\n",
    "    return evenLst  "
   ]
  },
  {
   "cell_type": "code",
   "execution_count": 16,
   "metadata": {},
   "outputs": [
    {
     "data": {
      "text/plain": [
       "[2, 64, 14]"
      ]
     },
     "execution_count": 16,
     "metadata": {},
     "output_type": "execute_result"
    }
   ],
   "source": [
    "findEven([2, 7, 5, 64, 14])"
   ]
  },
  {
   "cell_type": "code",
   "execution_count": 17,
   "metadata": {},
   "outputs": [
    {
     "data": {
      "text/plain": [
       "[12, 14]"
      ]
     },
     "execution_count": 17,
     "metadata": {},
     "output_type": "execute_result"
    }
   ],
   "source": [
    "findEven([12, 14, 95, 3])"
   ]
  },
  {
   "cell_type": "markdown",
   "metadata": {
    "id": "q5C_131JdTHR"
   },
   "source": [
    "### 5. Write a Python program to print all odd numbers in given list.<br>\n",
    "Example:\n",
    "\n",
    "Input: list1 = [2, 7, 5, 64, 14]<br>\n",
    "Output: [7, 5]\n",
    "\n",
    "Input: list2 = [12, 14, 95, 3, 73]<br>\n",
    "Output: [95, 3, 73]"
   ]
  },
  {
   "cell_type": "code",
   "execution_count": 19,
   "metadata": {
    "id": "1Ft0ddL0prIb"
   },
   "outputs": [],
   "source": [
    "def findOdd(lst):\n",
    "    oddLst = []\n",
    "    for i in lst:\n",
    "        if i%2 != 0:\n",
    "            oddLst.append(i)\n",
    "    return oddLst  "
   ]
  },
  {
   "cell_type": "code",
   "execution_count": 22,
   "metadata": {},
   "outputs": [
    {
     "data": {
      "text/plain": [
       "[7, 5]"
      ]
     },
     "execution_count": 22,
     "metadata": {},
     "output_type": "execute_result"
    }
   ],
   "source": [
    "findOdd( [2, 7, 5, 64, 14])"
   ]
  },
  {
   "cell_type": "code",
   "execution_count": 23,
   "metadata": {},
   "outputs": [
    {
     "data": {
      "text/plain": [
       "[95, 3, 73]"
      ]
     },
     "execution_count": 23,
     "metadata": {},
     "output_type": "execute_result"
    }
   ],
   "source": [
    "findOdd([12, 14, 95, 3, 73])"
   ]
  },
  {
   "cell_type": "code",
   "execution_count": null,
   "metadata": {},
   "outputs": [],
   "source": []
  }
 ],
 "metadata": {
  "colab": {
   "collapsed_sections": [],
   "name": "Python_Assignment_3.ipynb",
   "provenance": []
  },
  "kernelspec": {
   "display_name": "Python 3",
   "language": "python",
   "name": "python3"
  },
  "language_info": {
   "codemirror_mode": {
    "name": "ipython",
    "version": 3
   },
   "file_extension": ".py",
   "mimetype": "text/x-python",
   "name": "python",
   "nbconvert_exporter": "python",
   "pygments_lexer": "ipython3",
   "version": "3.8.8"
  }
 },
 "nbformat": 4,
 "nbformat_minor": 1
}
