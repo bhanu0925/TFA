{
 "cells": [
  {
   "cell_type": "markdown",
   "metadata": {
    "id": "e50fiuhHJYlg"
   },
   "source": [
    "## TFA_PythonAssignement_5"
   ]
  },
  {
   "cell_type": "markdown",
   "metadata": {
    "id": "bn9ovq--JdNj"
   },
   "source": [
    "# Question 1\n",
    "Define a  calculator function which takes 3 arguments from the user ,first two  will be numbers and third will be operations like (+,-,*,/).If user forgets to give third argument then by default operation it performs addition.\n",
    "\n",
    "calculator(3,4,+)\n",
    "output: sum of 3 and 4 is :7\n",
    "\n",
    "calculator(4,2)\n",
    "output: sum of 4 and 2 is :6"
   ]
  },
  {
   "cell_type": "code",
   "execution_count": 1,
   "metadata": {
    "id": "jAT2k578Mo1X"
   },
   "outputs": [],
   "source": [
    "def calculator (a,b,op='+'):\n",
    "    if op==None:\n",
    "        return (a+b)\n",
    "    else:\n",
    "        if op==\"+\":\n",
    "            return (a+b)\n",
    "        elif op==\"-\":\n",
    "            return (a-b)\n",
    "        elif op==\"*\":\n",
    "            return (a*b)\n",
    "        elif op==\"/\":\n",
    "            return (a/b)"
   ]
  },
  {
   "cell_type": "code",
   "execution_count": 2,
   "metadata": {},
   "outputs": [
    {
     "data": {
      "text/plain": [
       "6"
      ]
     },
     "execution_count": 2,
     "metadata": {},
     "output_type": "execute_result"
    }
   ],
   "source": [
    "calculator(4,2)"
   ]
  },
  {
   "cell_type": "code",
   "execution_count": 6,
   "metadata": {},
   "outputs": [
    {
     "data": {
      "text/plain": [
       "0.75"
      ]
     },
     "execution_count": 6,
     "metadata": {},
     "output_type": "execute_result"
    }
   ],
   "source": [
    "calculator(3,4,\"/\")"
   ]
  },
  {
   "cell_type": "code",
   "execution_count": 5,
   "metadata": {},
   "outputs": [
    {
     "data": {
      "text/plain": [
       "12"
      ]
     },
     "execution_count": 5,
     "metadata": {},
     "output_type": "execute_result"
    }
   ],
   "source": [
    "calculator(3,4,\"*\")"
   ]
  },
  {
   "cell_type": "code",
   "execution_count": 4,
   "metadata": {},
   "outputs": [
    {
     "data": {
      "text/plain": [
       "-1"
      ]
     },
     "execution_count": 4,
     "metadata": {},
     "output_type": "execute_result"
    }
   ],
   "source": [
    "calculator(3,4,\"-\")"
   ]
  },
  {
   "cell_type": "code",
   "execution_count": 7,
   "metadata": {},
   "outputs": [
    {
     "data": {
      "text/plain": [
       "7"
      ]
     },
     "execution_count": 7,
     "metadata": {},
     "output_type": "execute_result"
    }
   ],
   "source": [
    "calculator(3,4,'+')"
   ]
  },
  {
   "cell_type": "markdown",
   "metadata": {
    "id": "yhOn9YTiMrAK"
   },
   "source": [
    "# **Question 2**\n",
    "input:[23,34,23,36,48,56,56,100,100,100]<br>\n",
    "Write a function that will take a list as an input and returns second largest element from the list.\n",
    "\n",
    "maximum(input)<br>\n",
    "output :your second max element of list is 56.\n"
   ]
  },
  {
   "cell_type": "code",
   "execution_count": 50,
   "metadata": {
    "id": "m6oPCdfVQ9SJ"
   },
   "outputs": [],
   "source": [
    "def maximum(lst):\n",
    "    s = set(lst)\n",
    "    lst=[i for i in s]\n",
    "    lst.sort()\n",
    "    return (lst[-2])\n",
    "    "
   ]
  },
  {
   "cell_type": "code",
   "execution_count": 51,
   "metadata": {},
   "outputs": [
    {
     "data": {
      "text/plain": [
       "56"
      ]
     },
     "execution_count": 51,
     "metadata": {},
     "output_type": "execute_result"
    }
   ],
   "source": [
    "maximum([23,34,23,36,48,56,56,100,100,100])"
   ]
  },
  {
   "cell_type": "markdown",
   "metadata": {
    "id": "C8V6LLfiQ_5h"
   },
   "source": [
    "# Question 3\n",
    "input:[23,34,23,34,34,36,48,56,56,100,100,100]<br>\n",
    "Write a function that will take a list as an input and returns third minimum element from the list.\n",
    "\n",
    "minimum(input)<br>\n",
    "output :your third min element of list is 36."
   ]
  },
  {
   "cell_type": "code",
   "execution_count": 52,
   "metadata": {
    "id": "wmXncfdyResr"
   },
   "outputs": [],
   "source": [
    "def minimum(lst):\n",
    "    s = set(lst)\n",
    "    lst=[i for i in s]\n",
    "    lst.sort()\n",
    "    return (lst[2])"
   ]
  },
  {
   "cell_type": "code",
   "execution_count": 53,
   "metadata": {},
   "outputs": [
    {
     "data": {
      "text/plain": [
       "36"
      ]
     },
     "execution_count": 53,
     "metadata": {},
     "output_type": "execute_result"
    }
   ],
   "source": [
    "minimum([23,34,23,34,34,36,48,56,56,100,100,100])"
   ]
  },
  {
   "cell_type": "markdown",
   "metadata": {
    "id": "CTnBNN9rRlO2"
   },
   "source": [
    "# **Question 4**\n",
    "create a function that will take string as an input and returns a list of last character of each and every word present in the string.\n",
    "\n",
    "\n",
    "last(\"My name is anonomyus and i love python')\n",
    "\n",
    "output:[ y,e,s,s,d,i,e,n]\n"
   ]
  },
  {
   "cell_type": "code",
   "execution_count": 59,
   "metadata": {},
   "outputs": [],
   "source": [
    "def last(txt):\n",
    "    x = txt.split()\n",
    "    lst=[]\n",
    "    for i in x:\n",
    "        lst.append(i[-1])\n",
    "    return lst"
   ]
  },
  {
   "cell_type": "code",
   "execution_count": 60,
   "metadata": {},
   "outputs": [
    {
     "data": {
      "text/plain": [
       "['y', 'e', 's', 's', 'd', 'i', 'e', 'n']"
      ]
     },
     "execution_count": 60,
     "metadata": {},
     "output_type": "execute_result"
    }
   ],
   "source": [
    "last(\"My name is anonomyus and i love python\")\n"
   ]
  }
 ],
 "metadata": {
  "colab": {
   "collapsed_sections": [],
   "name": "Assignment 5.ipynb",
   "provenance": []
  },
  "kernelspec": {
   "display_name": "Python 3",
   "language": "python",
   "name": "python3"
  },
  "language_info": {
   "codemirror_mode": {
    "name": "ipython",
    "version": 3
   },
   "file_extension": ".py",
   "mimetype": "text/x-python",
   "name": "python",
   "nbconvert_exporter": "python",
   "pygments_lexer": "ipython3",
   "version": "3.8.8"
  }
 },
 "nbformat": 4,
 "nbformat_minor": 1
}
