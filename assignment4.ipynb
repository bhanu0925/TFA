{
 "cells": [
  {
   "cell_type": "markdown",
   "metadata": {
    "id": "l6D5R9UctcA6"
   },
   "source": [
    "## TFA_PythonAssignment_4"
   ]
  },
  {
   "cell_type": "markdown",
   "metadata": {
    "id": "tWjRQp5O0pww"
   },
   "source": [
    "# **Question 1st**\n",
    "i) <br>\n",
    "Create a math function that will take a list as arguments and perform the following :<br>\n",
    "Return the sum of the list <br>\n",
    "Sum of square of all elements present in the list .<br>\n",
    "**Example:**\n",
    "calculate([1,2,3,4,5])<br>\n",
    "output: sum of all list is 15 \n",
    "sum of square of list elemnts is 36<br>\n",
    "\n",
    "\n",
    "\n",
    "\n"
   ]
  },
  {
   "cell_type": "code",
   "execution_count": 1,
   "metadata": {
    "id": "n652ipQtBfK6"
   },
   "outputs": [
    {
     "name": "stdout",
     "output_type": "stream",
     "text": [
      "Sum of the list  15\n",
      "sum of Square of all Elements 55\n"
     ]
    }
   ],
   "source": [
    "def calculate(lst):\n",
    "    sumLst = sum(lst)\n",
    "    sumOfSqr = 0\n",
    "    \n",
    "    for i in lst:\n",
    "        sumOfSqr += i**2\n",
    "        \n",
    "    return sumLst, sumOfSqr\n",
    "\n",
    "sumOfLst, sumOfSqr = calculate([1,2,3,4,5])\n",
    "print(\"Sum of the list \",sumOfLst)\n",
    "print(\"sum of Square of all Elements\",sumOfSqr)\n",
    "    \n",
    "    \n",
    "    "
   ]
  },
  {
   "cell_type": "markdown",
   "metadata": {
    "id": "b9eXTrGJ-HcT"
   },
   "source": [
    "# **Question 2nd**\n",
    "**a)**<br>\n",
    "**input=['a','a','b','c','d','a','a','i','g','g','h']**<br>\n",
    "**output={'a':4,'b':1,'c':1,'g':2,'h':1}**<br>\n",
    "consider input as a list and return a dictionary of occurances of each and every element present in the list.\n",
    "\n",
    "b)<br>\n",
    "Write the above program by defining a count function, such that when function is called, it should return a dictionary with occurances of each and every element.<br>\n",
    "\n",
    "count(['a','a','b','c','d','a','a','i','g','g','h'])<br>\n",
    "output:{'a':4,'b':1,'c':1,'g':2,'h':1}\n",
    "\n"
   ]
  },
  {
   "cell_type": "code",
   "execution_count": 7,
   "metadata": {
    "id": "wDgCT4Ia4oLH"
   },
   "outputs": [
    {
     "name": "stdout",
     "output_type": "stream",
     "text": [
      "Output Dictionary {'a': 4, 'b': 1, 'c': 1, 'd': 1, 'i': 1, 'g': 2, 'h': 1}\n"
     ]
    }
   ],
   "source": [
    "lst = ['a','a','b','c','d','a','a','i','g','g','h']\n",
    "outputDict = {}\n",
    "\n",
    "for i in lst:\n",
    "    outputDict[i] = lst.count(i)\n",
    "print(\"Output Dictionary\",outputDict)"
   ]
  },
  {
   "cell_type": "code",
   "execution_count": 11,
   "metadata": {},
   "outputs": [],
   "source": [
    "def count(lst):   \n",
    "    outputDict = {}\n",
    "    for i in lst:\n",
    "        outputDict[i] = lst.count(i)\n",
    "    return outputDict    "
   ]
  },
  {
   "cell_type": "code",
   "execution_count": 10,
   "metadata": {},
   "outputs": [
    {
     "data": {
      "text/plain": [
       "{'a': 4, 'b': 1, 'c': 1, 'd': 1, 'i': 1, 'g': 2, 'h': 1}"
      ]
     },
     "execution_count": 10,
     "metadata": {},
     "output_type": "execute_result"
    }
   ],
   "source": [
    "count(['a','a','b','c','d','a','a','i','g','g','h'])"
   ]
  },
  {
   "cell_type": "markdown",
   "metadata": {
    "id": "joPcyrulC1ox"
   },
   "source": [
    "# **Question 3:<br>**\n",
    "\n",
    "**i)**\n",
    "create a even function that will take number as an argument and returns a list of all the even numbers starting with 2 to the number given as an input.(For clarity check the example)<br>\n",
    "**Example:**even(10)<br>\n",
    "output:[2,4,6,8,10]<br>\n",
    "\n",
    "**ii)**\n",
    "In second part you have to return the total sum of even numbers that you received as an output from the above question.\n",
    "\n",
    "Example:even(10)<br>\n",
    "output: your output is 220\n"
   ]
  },
  {
   "cell_type": "code",
   "execution_count": 22,
   "metadata": {
    "id": "17nJeH51-OKm"
   },
   "outputs": [],
   "source": [
    "def even(num):\n",
    "    evenLst =[]\n",
    "    for i in range(2,num + 1):\n",
    "        if i%2 == 0:\n",
    "            evenLst.append(i)\n",
    "    return evenLst"
   ]
  },
  {
   "cell_type": "code",
   "execution_count": 23,
   "metadata": {},
   "outputs": [
    {
     "data": {
      "text/plain": [
       "[2, 4, 6, 8, 10]"
      ]
     },
     "execution_count": 23,
     "metadata": {},
     "output_type": "execute_result"
    }
   ],
   "source": [
    "even(10)"
   ]
  },
  {
   "cell_type": "code",
   "execution_count": 34,
   "metadata": {},
   "outputs": [],
   "source": [
    "def evenSum(num):\n",
    "    evenLst =[]\n",
    "    for i in range(2,num + 1):\n",
    "        if i%2 == 0:\n",
    "            evenLst.append(i)\n",
    "    sumLst = sum(evenLst)\n",
    "    return \"sum of even numbers form 2 to {} is {}\".format(num,sumLst)"
   ]
  },
  {
   "cell_type": "code",
   "execution_count": 35,
   "metadata": {},
   "outputs": [
    {
     "data": {
      "text/plain": [
       "'sum of even numbers form 2 to 10 is 30'"
      ]
     },
     "execution_count": 35,
     "metadata": {},
     "output_type": "execute_result"
    }
   ],
   "source": [
    "evenSum(10)"
   ]
  },
  {
   "cell_type": "code",
   "execution_count": null,
   "metadata": {},
   "outputs": [],
   "source": []
  }
 ],
 "metadata": {
  "colab": {
   "collapsed_sections": [],
   "name": "assignment4.ipynb",
   "provenance": []
  },
  "kernelspec": {
   "display_name": "Python 3",
   "language": "python",
   "name": "python3"
  },
  "language_info": {
   "codemirror_mode": {
    "name": "ipython",
    "version": 3
   },
   "file_extension": ".py",
   "mimetype": "text/x-python",
   "name": "python",
   "nbconvert_exporter": "python",
   "pygments_lexer": "ipython3",
   "version": "3.8.8"
  }
 },
 "nbformat": 4,
 "nbformat_minor": 1
}
